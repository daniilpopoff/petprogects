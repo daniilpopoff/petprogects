{
  "cells": [
    {
      "cell_type": "markdown",
      "metadata": {
        "id": "view-in-github",
        "colab_type": "text"
      },
      "source": [
        "<a href=\"https://colab.research.google.com/github/daniilpopoff/petprogects/blob/main/F_Baseline_code_KG_3_place.ipynb\" target=\"_parent\"><img src=\"https://colab.research.google.com/assets/colab-badge.svg\" alt=\"Open In Colab\"/></a>"
      ]
    },
    {
      "cell_type": "markdown",
      "id": "1ef08386",
      "metadata": {
        "id": "1ef08386"
      },
      "source": [
        "# Detection kyrgyz alphabet letters\n"
      ]
    },
    {
      "cell_type": "markdown",
      "id": "dGC0CA19wMcf",
      "metadata": {
        "id": "dGC0CA19wMcf"
      },
      "source": [
        "[**Site of competition**](https://thecramer.com/challenges/datathon-november-2022)\n",
        "\n",
        "The task of the competition is to most accurately recognize the handwritten letters of the Kyrgyz alphabet (36 letters).\n",
        "\n",
        "Data set of handwritten kyrgyz lellers includes 89117 images sized 50x50 pixels\n",
        "\n",
        "\n",
        "Data set divided into:\n",
        "\n",
        "1.   **train/test** = 80213  img\n",
        "2.   **validation** = 8904 img\n",
        "\n",
        "\n"
      ]
    },
    {
      "cell_type": "markdown",
      "id": "fmhHlfFDQplc",
      "metadata": {
        "id": "fmhHlfFDQplc"
      },
      "source": [
        "\n",
        "\n",
        "\\begin{array}{|c|c|} \\hline\n",
        "label & pixel0 & pixel1 & pixel2 & ... & pixe2499 \\\\ \\hline\n",
        "1 & 0 & 0 & 255 \\\\\n",
        "2 & 0 & 0 & 200 \\\\\n",
        "4 & 0 & 100 & 190 \\\\ \\hline\n",
        "\\end{array}"
      ]
    },
    {
      "cell_type": "markdown",
      "id": "3XJmQQvLwMcg",
      "metadata": {
        "id": "3XJmQQvLwMcg"
      },
      "source": [
        "## Initialization"
      ]
    },
    {
      "cell_type": "code",
      "execution_count": 9,
      "id": "1HXSn-TgwMcg",
      "metadata": {
        "id": "1HXSn-TgwMcg"
      },
      "outputs": [],
      "source": [
        "# Importing the packages\n",
        "\n",
        "import os\n",
        "import random\n",
        "import logging\n",
        "import datetime\n",
        "import collections\n",
        "\n",
        "\n",
        "# We need this for right print.\n",
        "from IPython.display import display, Markdown, Image, Latex\n",
        "import ipywidgets as ipw\n",
        "\n",
        "import numpy as np\n",
        "import pandas as pd\n",
        "\n",
        "import matplotlib.pyplot as plt\n",
        "import seaborn as sns\n",
        "\n",
        "from sklearn.linear_model import LogisticRegression\n",
        "from sklearn.metrics import accuracy_score"
      ]
    },
    {
      "cell_type": "code",
      "execution_count": 10,
      "id": "bxb5YNFxwMch",
      "metadata": {
        "id": "bxb5YNFxwMch"
      },
      "outputs": [],
      "source": [
        "# Fix random number generators for reproducibility.\n",
        "# Fixing method is not complete and does not guarantee 100% reproducibility for this notebook\n",
        "\n",
        "SEED = 1\n",
        "\n",
        "random.seed(SEED)\n",
        "np.random.seed(SEED)\n",
        "\n",
        "#  create random nubers generator \n",
        "RNG = np.random.default_rng()"
      ]
    },
    {
      "cell_type": "code",
      "execution_count": 11,
      "id": "3b8388b4",
      "metadata": {
        "id": "3b8388b4"
      },
      "outputs": [],
      "source": [
        "import os\n",
        "os.environ[\"CUDA_DEVICE_ORDER\"]=\"PCI_BUS_ID\"   # see issue #152\n",
        "os.environ[\"CUDA_VISIBLE_DEVICES\"]=\"0,2,3,4\""
      ]
    },
    {
      "cell_type": "code",
      "execution_count": 12,
      "id": "39c27e5d",
      "metadata": {
        "colab": {
          "base_uri": "https://localhost:8080/"
        },
        "id": "39c27e5d",
        "outputId": "23c12c5e-ba9e-42f4-876f-883e4171014d"
      },
      "outputs": [
        {
          "output_type": "execute_result",
          "data": {
            "text/plain": [
              "[name: \"/device:CPU:0\"\n",
              " device_type: \"CPU\"\n",
              " memory_limit: 268435456\n",
              " locality {\n",
              " }\n",
              " incarnation: 7983879437935767233\n",
              " xla_global_id: -1, name: \"/device:GPU:0\"\n",
              " device_type: \"GPU\"\n",
              " memory_limit: 14415560704\n",
              " locality {\n",
              "   bus_id: 1\n",
              "   links {\n",
              "   }\n",
              " }\n",
              " incarnation: 15094591490177067728\n",
              " physical_device_desc: \"device: 0, name: Tesla T4, pci bus id: 0000:00:04.0, compute capability: 7.5\"\n",
              " xla_global_id: 416903419]"
            ]
          },
          "metadata": {},
          "execution_count": 12
        }
      ],
      "source": [
        "from tensorflow.python.client import device_lib\n",
        "device_lib.list_local_devices()"
      ]
    },
    {
      "cell_type": "markdown",
      "id": "W_kyR3HawMch",
      "metadata": {
        "id": "W_kyR3HawMch"
      },
      "source": [
        "## Supporting functions"
      ]
    },
    {
      "cell_type": "code",
      "execution_count": 25,
      "id": "FDUwl1BBwMci",
      "metadata": {
        "id": "FDUwl1BBwMci"
      },
      "outputs": [],
      "source": [
        "  # Show the pictures.\n",
        "def display_examples(examples_number, data_number, image_getter, label_getter=lambda j: ''):\n",
        "    examples_number = min(examples_number, data_number)\n",
        "    \n",
        "    plt.figure(figsize = (16, 16))\n",
        "\n",
        "    for i, j in enumerate(RNG.choice(data_number, examples_number, replace=False)):\n",
        "      # print(i, j)\n",
        "      # print(image_getter(j))\n",
        "      plt.subplot(1, examples_number, i+1)\n",
        "      plt.imshow(image_getter(j), cmap=plt.get_cmap('gray'))\n",
        "      plt.title(label_getter(j))\n",
        "        \n",
        "  "
      ]
    },
    {
      "cell_type": "markdown",
      "id": "rqkXlIhYwMci",
      "metadata": {
        "id": "rqkXlIhYwMci"
      },
      "source": [
        "## Getting data"
      ]
    },
    {
      "cell_type": "code",
      "execution_count": 15,
      "id": "xwNhdgPRudsR",
      "metadata": {
        "id": "xwNhdgPRudsR"
      },
      "outputs": [],
      "source": [
        "# raw_train_test_data.to_csv('train_test.csv', index=False, header=True)"
      ]
    },
    {
      "cell_type": "code",
      "source": [
        "from google.colab import drive\n",
        "drive.mount('/content/drive')"
      ],
      "metadata": {
        "colab": {
          "base_uri": "https://localhost:8080/"
        },
        "id": "AQhCCq2DDqc0",
        "outputId": "1de30076-82b5-47d6-d36e-cb6e0642b3b6"
      },
      "id": "AQhCCq2DDqc0",
      "execution_count": 16,
      "outputs": [
        {
          "output_type": "stream",
          "name": "stdout",
          "text": [
            "Mounted at /content/drive\n"
          ]
        }
      ]
    },
    {
      "cell_type": "code",
      "source": [
        "# %cd /content/drive/My Drive/datathon/"
      ],
      "metadata": {
        "id": "hWUSE07MEtwv"
      },
      "id": "hWUSE07MEtwv",
      "execution_count": 17,
      "outputs": []
    },
    {
      "cell_type": "code",
      "execution_count": 18,
      "id": "AVa_8w1_wMci",
      "metadata": {
        "colab": {
          "base_uri": "https://localhost:8080/",
          "height": 505
        },
        "id": "AVa_8w1_wMci",
        "outputId": "ab61212c-39ef-4846-f274-e229649efa82"
      },
      "outputs": [
        {
          "output_type": "display_data",
          "data": {
            "text/plain": [
              "(80213, 2501)"
            ]
          },
          "metadata": {}
        },
        {
          "output_type": "display_data",
          "data": {
            "text/plain": [
              "       label  pixel_0  pixel_1  pixel_2  pixel_3  pixel_4  pixel_5  pixel_6  \\\n",
              "0          2        0        0        0        0        0        0        0   \n",
              "1          2        0        0        0        0        0        0        0   \n",
              "2          2        0        0        0        0        0        0        0   \n",
              "3          2        0        0        0        0        0        0        0   \n",
              "4          2        0        0        0        0        0        0        0   \n",
              "...      ...      ...      ...      ...      ...      ...      ...      ...   \n",
              "80208      7        0        0        0        0        0        0        0   \n",
              "80209     20        0        0        0        0        0        0        0   \n",
              "80210     19        0        0        0        0        0        0        0   \n",
              "80211     28        0        0        0        0        0        0        0   \n",
              "80212     26        0        0        0        0        0        0        0   \n",
              "\n",
              "       pixel_7  pixel_8  ...  pixel_2490  pixel_2491  pixel_2492  pixel_2493  \\\n",
              "0            0        0  ...           0           0           0           0   \n",
              "1            0        0  ...           0           0           0           0   \n",
              "2            0        0  ...           0           0           0           0   \n",
              "3            0        0  ...           0           0           0           0   \n",
              "4            0        0  ...           0           0           0           0   \n",
              "...        ...      ...  ...         ...         ...         ...         ...   \n",
              "80208        0        0  ...           0           0           0           0   \n",
              "80209        0        0  ...           0           0           0           0   \n",
              "80210        0        0  ...           0           0           0           0   \n",
              "80211        0        0  ...           0           0           0           0   \n",
              "80212        0        0  ...           0           0           0           0   \n",
              "\n",
              "       pixel_2494  pixel_2495  pixel_2496  pixel_2497  pixel_2498  pixel_2499  \n",
              "0               0           0           0           0           0           0  \n",
              "1               0           0           0           0           0           0  \n",
              "2               0           0           0           0           0           0  \n",
              "3               0           0           0           0           0           0  \n",
              "4               0           0           0           0           0           0  \n",
              "...           ...         ...         ...         ...         ...         ...  \n",
              "80208           0           0           0           0           0           0  \n",
              "80209           0           0           0           0           0           0  \n",
              "80210           0           0           0           0           0           0  \n",
              "80211           0           0           0           0           0           0  \n",
              "80212           0           0           0           0           0           0  \n",
              "\n",
              "[80213 rows x 2501 columns]"
            ],
            "text/html": [
              "\n",
              "  <div id=\"df-0cd1b387-6e98-4e66-bdfe-6426b3359e0a\">\n",
              "    <div class=\"colab-df-container\">\n",
              "      <div>\n",
              "<style scoped>\n",
              "    .dataframe tbody tr th:only-of-type {\n",
              "        vertical-align: middle;\n",
              "    }\n",
              "\n",
              "    .dataframe tbody tr th {\n",
              "        vertical-align: top;\n",
              "    }\n",
              "\n",
              "    .dataframe thead th {\n",
              "        text-align: right;\n",
              "    }\n",
              "</style>\n",
              "<table border=\"1\" class=\"dataframe\">\n",
              "  <thead>\n",
              "    <tr style=\"text-align: right;\">\n",
              "      <th></th>\n",
              "      <th>label</th>\n",
              "      <th>pixel_0</th>\n",
              "      <th>pixel_1</th>\n",
              "      <th>pixel_2</th>\n",
              "      <th>pixel_3</th>\n",
              "      <th>pixel_4</th>\n",
              "      <th>pixel_5</th>\n",
              "      <th>pixel_6</th>\n",
              "      <th>pixel_7</th>\n",
              "      <th>pixel_8</th>\n",
              "      <th>...</th>\n",
              "      <th>pixel_2490</th>\n",
              "      <th>pixel_2491</th>\n",
              "      <th>pixel_2492</th>\n",
              "      <th>pixel_2493</th>\n",
              "      <th>pixel_2494</th>\n",
              "      <th>pixel_2495</th>\n",
              "      <th>pixel_2496</th>\n",
              "      <th>pixel_2497</th>\n",
              "      <th>pixel_2498</th>\n",
              "      <th>pixel_2499</th>\n",
              "    </tr>\n",
              "  </thead>\n",
              "  <tbody>\n",
              "    <tr>\n",
              "      <th>0</th>\n",
              "      <td>2</td>\n",
              "      <td>0</td>\n",
              "      <td>0</td>\n",
              "      <td>0</td>\n",
              "      <td>0</td>\n",
              "      <td>0</td>\n",
              "      <td>0</td>\n",
              "      <td>0</td>\n",
              "      <td>0</td>\n",
              "      <td>0</td>\n",
              "      <td>...</td>\n",
              "      <td>0</td>\n",
              "      <td>0</td>\n",
              "      <td>0</td>\n",
              "      <td>0</td>\n",
              "      <td>0</td>\n",
              "      <td>0</td>\n",
              "      <td>0</td>\n",
              "      <td>0</td>\n",
              "      <td>0</td>\n",
              "      <td>0</td>\n",
              "    </tr>\n",
              "    <tr>\n",
              "      <th>1</th>\n",
              "      <td>2</td>\n",
              "      <td>0</td>\n",
              "      <td>0</td>\n",
              "      <td>0</td>\n",
              "      <td>0</td>\n",
              "      <td>0</td>\n",
              "      <td>0</td>\n",
              "      <td>0</td>\n",
              "      <td>0</td>\n",
              "      <td>0</td>\n",
              "      <td>...</td>\n",
              "      <td>0</td>\n",
              "      <td>0</td>\n",
              "      <td>0</td>\n",
              "      <td>0</td>\n",
              "      <td>0</td>\n",
              "      <td>0</td>\n",
              "      <td>0</td>\n",
              "      <td>0</td>\n",
              "      <td>0</td>\n",
              "      <td>0</td>\n",
              "    </tr>\n",
              "    <tr>\n",
              "      <th>2</th>\n",
              "      <td>2</td>\n",
              "      <td>0</td>\n",
              "      <td>0</td>\n",
              "      <td>0</td>\n",
              "      <td>0</td>\n",
              "      <td>0</td>\n",
              "      <td>0</td>\n",
              "      <td>0</td>\n",
              "      <td>0</td>\n",
              "      <td>0</td>\n",
              "      <td>...</td>\n",
              "      <td>0</td>\n",
              "      <td>0</td>\n",
              "      <td>0</td>\n",
              "      <td>0</td>\n",
              "      <td>0</td>\n",
              "      <td>0</td>\n",
              "      <td>0</td>\n",
              "      <td>0</td>\n",
              "      <td>0</td>\n",
              "      <td>0</td>\n",
              "    </tr>\n",
              "    <tr>\n",
              "      <th>3</th>\n",
              "      <td>2</td>\n",
              "      <td>0</td>\n",
              "      <td>0</td>\n",
              "      <td>0</td>\n",
              "      <td>0</td>\n",
              "      <td>0</td>\n",
              "      <td>0</td>\n",
              "      <td>0</td>\n",
              "      <td>0</td>\n",
              "      <td>0</td>\n",
              "      <td>...</td>\n",
              "      <td>0</td>\n",
              "      <td>0</td>\n",
              "      <td>0</td>\n",
              "      <td>0</td>\n",
              "      <td>0</td>\n",
              "      <td>0</td>\n",
              "      <td>0</td>\n",
              "      <td>0</td>\n",
              "      <td>0</td>\n",
              "      <td>0</td>\n",
              "    </tr>\n",
              "    <tr>\n",
              "      <th>4</th>\n",
              "      <td>2</td>\n",
              "      <td>0</td>\n",
              "      <td>0</td>\n",
              "      <td>0</td>\n",
              "      <td>0</td>\n",
              "      <td>0</td>\n",
              "      <td>0</td>\n",
              "      <td>0</td>\n",
              "      <td>0</td>\n",
              "      <td>0</td>\n",
              "      <td>...</td>\n",
              "      <td>0</td>\n",
              "      <td>0</td>\n",
              "      <td>0</td>\n",
              "      <td>0</td>\n",
              "      <td>0</td>\n",
              "      <td>0</td>\n",
              "      <td>0</td>\n",
              "      <td>0</td>\n",
              "      <td>0</td>\n",
              "      <td>0</td>\n",
              "    </tr>\n",
              "    <tr>\n",
              "      <th>...</th>\n",
              "      <td>...</td>\n",
              "      <td>...</td>\n",
              "      <td>...</td>\n",
              "      <td>...</td>\n",
              "      <td>...</td>\n",
              "      <td>...</td>\n",
              "      <td>...</td>\n",
              "      <td>...</td>\n",
              "      <td>...</td>\n",
              "      <td>...</td>\n",
              "      <td>...</td>\n",
              "      <td>...</td>\n",
              "      <td>...</td>\n",
              "      <td>...</td>\n",
              "      <td>...</td>\n",
              "      <td>...</td>\n",
              "      <td>...</td>\n",
              "      <td>...</td>\n",
              "      <td>...</td>\n",
              "      <td>...</td>\n",
              "      <td>...</td>\n",
              "    </tr>\n",
              "    <tr>\n",
              "      <th>80208</th>\n",
              "      <td>7</td>\n",
              "      <td>0</td>\n",
              "      <td>0</td>\n",
              "      <td>0</td>\n",
              "      <td>0</td>\n",
              "      <td>0</td>\n",
              "      <td>0</td>\n",
              "      <td>0</td>\n",
              "      <td>0</td>\n",
              "      <td>0</td>\n",
              "      <td>...</td>\n",
              "      <td>0</td>\n",
              "      <td>0</td>\n",
              "      <td>0</td>\n",
              "      <td>0</td>\n",
              "      <td>0</td>\n",
              "      <td>0</td>\n",
              "      <td>0</td>\n",
              "      <td>0</td>\n",
              "      <td>0</td>\n",
              "      <td>0</td>\n",
              "    </tr>\n",
              "    <tr>\n",
              "      <th>80209</th>\n",
              "      <td>20</td>\n",
              "      <td>0</td>\n",
              "      <td>0</td>\n",
              "      <td>0</td>\n",
              "      <td>0</td>\n",
              "      <td>0</td>\n",
              "      <td>0</td>\n",
              "      <td>0</td>\n",
              "      <td>0</td>\n",
              "      <td>0</td>\n",
              "      <td>...</td>\n",
              "      <td>0</td>\n",
              "      <td>0</td>\n",
              "      <td>0</td>\n",
              "      <td>0</td>\n",
              "      <td>0</td>\n",
              "      <td>0</td>\n",
              "      <td>0</td>\n",
              "      <td>0</td>\n",
              "      <td>0</td>\n",
              "      <td>0</td>\n",
              "    </tr>\n",
              "    <tr>\n",
              "      <th>80210</th>\n",
              "      <td>19</td>\n",
              "      <td>0</td>\n",
              "      <td>0</td>\n",
              "      <td>0</td>\n",
              "      <td>0</td>\n",
              "      <td>0</td>\n",
              "      <td>0</td>\n",
              "      <td>0</td>\n",
              "      <td>0</td>\n",
              "      <td>0</td>\n",
              "      <td>...</td>\n",
              "      <td>0</td>\n",
              "      <td>0</td>\n",
              "      <td>0</td>\n",
              "      <td>0</td>\n",
              "      <td>0</td>\n",
              "      <td>0</td>\n",
              "      <td>0</td>\n",
              "      <td>0</td>\n",
              "      <td>0</td>\n",
              "      <td>0</td>\n",
              "    </tr>\n",
              "    <tr>\n",
              "      <th>80211</th>\n",
              "      <td>28</td>\n",
              "      <td>0</td>\n",
              "      <td>0</td>\n",
              "      <td>0</td>\n",
              "      <td>0</td>\n",
              "      <td>0</td>\n",
              "      <td>0</td>\n",
              "      <td>0</td>\n",
              "      <td>0</td>\n",
              "      <td>0</td>\n",
              "      <td>...</td>\n",
              "      <td>0</td>\n",
              "      <td>0</td>\n",
              "      <td>0</td>\n",
              "      <td>0</td>\n",
              "      <td>0</td>\n",
              "      <td>0</td>\n",
              "      <td>0</td>\n",
              "      <td>0</td>\n",
              "      <td>0</td>\n",
              "      <td>0</td>\n",
              "    </tr>\n",
              "    <tr>\n",
              "      <th>80212</th>\n",
              "      <td>26</td>\n",
              "      <td>0</td>\n",
              "      <td>0</td>\n",
              "      <td>0</td>\n",
              "      <td>0</td>\n",
              "      <td>0</td>\n",
              "      <td>0</td>\n",
              "      <td>0</td>\n",
              "      <td>0</td>\n",
              "      <td>0</td>\n",
              "      <td>...</td>\n",
              "      <td>0</td>\n",
              "      <td>0</td>\n",
              "      <td>0</td>\n",
              "      <td>0</td>\n",
              "      <td>0</td>\n",
              "      <td>0</td>\n",
              "      <td>0</td>\n",
              "      <td>0</td>\n",
              "      <td>0</td>\n",
              "      <td>0</td>\n",
              "    </tr>\n",
              "  </tbody>\n",
              "</table>\n",
              "<p>80213 rows × 2501 columns</p>\n",
              "</div>\n",
              "      <button class=\"colab-df-convert\" onclick=\"convertToInteractive('df-0cd1b387-6e98-4e66-bdfe-6426b3359e0a')\"\n",
              "              title=\"Convert this dataframe to an interactive table.\"\n",
              "              style=\"display:none;\">\n",
              "        \n",
              "  <svg xmlns=\"http://www.w3.org/2000/svg\" height=\"24px\"viewBox=\"0 0 24 24\"\n",
              "       width=\"24px\">\n",
              "    <path d=\"M0 0h24v24H0V0z\" fill=\"none\"/>\n",
              "    <path d=\"M18.56 5.44l.94 2.06.94-2.06 2.06-.94-2.06-.94-.94-2.06-.94 2.06-2.06.94zm-11 1L8.5 8.5l.94-2.06 2.06-.94-2.06-.94L8.5 2.5l-.94 2.06-2.06.94zm10 10l.94 2.06.94-2.06 2.06-.94-2.06-.94-.94-2.06-.94 2.06-2.06.94z\"/><path d=\"M17.41 7.96l-1.37-1.37c-.4-.4-.92-.59-1.43-.59-.52 0-1.04.2-1.43.59L10.3 9.45l-7.72 7.72c-.78.78-.78 2.05 0 2.83L4 21.41c.39.39.9.59 1.41.59.51 0 1.02-.2 1.41-.59l7.78-7.78 2.81-2.81c.8-.78.8-2.07 0-2.86zM5.41 20L4 18.59l7.72-7.72 1.47 1.35L5.41 20z\"/>\n",
              "  </svg>\n",
              "      </button>\n",
              "      \n",
              "  <style>\n",
              "    .colab-df-container {\n",
              "      display:flex;\n",
              "      flex-wrap:wrap;\n",
              "      gap: 12px;\n",
              "    }\n",
              "\n",
              "    .colab-df-convert {\n",
              "      background-color: #E8F0FE;\n",
              "      border: none;\n",
              "      border-radius: 50%;\n",
              "      cursor: pointer;\n",
              "      display: none;\n",
              "      fill: #1967D2;\n",
              "      height: 32px;\n",
              "      padding: 0 0 0 0;\n",
              "      width: 32px;\n",
              "    }\n",
              "\n",
              "    .colab-df-convert:hover {\n",
              "      background-color: #E2EBFA;\n",
              "      box-shadow: 0px 1px 2px rgba(60, 64, 67, 0.3), 0px 1px 3px 1px rgba(60, 64, 67, 0.15);\n",
              "      fill: #174EA6;\n",
              "    }\n",
              "\n",
              "    [theme=dark] .colab-df-convert {\n",
              "      background-color: #3B4455;\n",
              "      fill: #D2E3FC;\n",
              "    }\n",
              "\n",
              "    [theme=dark] .colab-df-convert:hover {\n",
              "      background-color: #434B5C;\n",
              "      box-shadow: 0px 1px 3px 1px rgba(0, 0, 0, 0.15);\n",
              "      filter: drop-shadow(0px 1px 2px rgba(0, 0, 0, 0.3));\n",
              "      fill: #FFFFFF;\n",
              "    }\n",
              "  </style>\n",
              "\n",
              "      <script>\n",
              "        const buttonEl =\n",
              "          document.querySelector('#df-0cd1b387-6e98-4e66-bdfe-6426b3359e0a button.colab-df-convert');\n",
              "        buttonEl.style.display =\n",
              "          google.colab.kernel.accessAllowed ? 'block' : 'none';\n",
              "\n",
              "        async function convertToInteractive(key) {\n",
              "          const element = document.querySelector('#df-0cd1b387-6e98-4e66-bdfe-6426b3359e0a');\n",
              "          const dataTable =\n",
              "            await google.colab.kernel.invokeFunction('convertToInteractive',\n",
              "                                                     [key], {});\n",
              "          if (!dataTable) return;\n",
              "\n",
              "          const docLinkHtml = 'Like what you see? Visit the ' +\n",
              "            '<a target=\"_blank\" href=https://colab.research.google.com/notebooks/data_table.ipynb>data table notebook</a>'\n",
              "            + ' to learn more about interactive tables.';\n",
              "          element.innerHTML = '';\n",
              "          dataTable['output_type'] = 'display_data';\n",
              "          await google.colab.output.renderOutput(dataTable, element);\n",
              "          const docLink = document.createElement('div');\n",
              "          docLink.innerHTML = docLinkHtml;\n",
              "          element.appendChild(docLink);\n",
              "        }\n",
              "      </script>\n",
              "    </div>\n",
              "  </div>\n",
              "  "
            ]
          },
          "metadata": {}
        }
      ],
      "source": [
        "FILE_TRAIN = r'/content/drive/MyDrive/datathon/train_test.csv'\n",
        "\n",
        "FILE_VALIDATION = r'/content/drive/MyDrive/datathon/validation_with_image_id.csv'\n",
        "\n",
        "raw_train_data = pd.read_csv(FILE_TRAIN)\n",
        "\n",
        "display(raw_train_data.shape)\n",
        "display(raw_train_data)"
      ]
    },
    {
      "cell_type": "code",
      "execution_count": 19,
      "id": "624814a1",
      "metadata": {
        "colab": {
          "base_uri": "https://localhost:8080/"
        },
        "id": "624814a1",
        "outputId": "dc235925-1d2a-4641-8eb6-50fd06603353"
      },
      "outputs": [
        {
          "output_type": "execute_result",
          "data": {
            "text/plain": [
              "label          36\n",
              "pixel_0        16\n",
              "pixel_1        85\n",
              "pixel_2        68\n",
              "pixel_3       100\n",
              "             ... \n",
              "pixel_2495    102\n",
              "pixel_2496     79\n",
              "pixel_2497     73\n",
              "pixel_2498     26\n",
              "pixel_2499     20\n",
              "Length: 2501, dtype: int64"
            ]
          },
          "metadata": {},
          "execution_count": 19
        }
      ],
      "source": [
        "raw_train_data.max()"
      ]
    },
    {
      "cell_type": "markdown",
      "id": "u4pqP3jpwMcj",
      "metadata": {
        "id": "u4pqP3jpwMcj"
      },
      "source": [
        "## look at the data"
      ]
    },
    {
      "cell_type": "code",
      "execution_count": 20,
      "id": "Ke3rr3qcwMcj",
      "metadata": {
        "id": "Ke3rr3qcwMcj"
      },
      "outputs": [],
      "source": [
        "#we need this to make the code more resistant to changes\n",
        "\n",
        "IMAGE_SIZE = 50\n",
        "IMAGE_SHAPE = (IMAGE_SIZE, IMAGE_SIZE)"
      ]
    },
    {
      "cell_type": "markdown",
      "id": "jg6NpsUVnSmx",
      "metadata": {
        "id": "jg6NpsUVnSmx"
      },
      "source": [
        "### Train"
      ]
    },
    {
      "cell_type": "code",
      "execution_count": 21,
      "id": "bFQNXo7RwMcj",
      "metadata": {
        "id": "bFQNXo7RwMcj"
      },
      "outputs": [],
      "source": [
        "# separate the values ​​of inputs and outputs and perform basic data preparation for TRAIN\n",
        "\n",
        "def prepair_x(raw_x):\n",
        "    x = raw_x.values.astype('float32') / 255\n",
        "    return x.reshape(x.shape[0], *IMAGE_SHAPE)\n",
        "    \n",
        "def prepair_y(raw_y):\n",
        "    y = raw_y - 1\n",
        "    return y\n",
        "    \n",
        "input_train_x = prepair_x(raw_train_data.iloc[:,1:])\n",
        "input_train_y = prepair_y(raw_train_data.iloc[:,0].values.astype('int32'))"
      ]
    },
    {
      "cell_type": "code",
      "execution_count": 22,
      "id": "6gl9GVWRwMcj",
      "metadata": {
        "colab": {
          "base_uri": "https://localhost:8080/",
          "height": 140
        },
        "id": "6gl9GVWRwMcj",
        "outputId": "6ce1673a-f210-4b5b-dbb0-de0f6092af42"
      },
      "outputs": [
        {
          "output_type": "display_data",
          "data": {
            "text/plain": [
              "<Figure size 1152x1152 with 10 Axes>"
            ],
            "image/png": "[encoded data removed]"
          },
          "metadata": {
            "needs_background": "light"
          }
        }
      ],
      "source": [
        "# look at the pictures\n",
        "display_examples(examples_number=10, \n",
        "                 data_number=len(input_train_x), \n",
        "                 image_getter=lambda j: input_train_x[j], \n",
        "                 label_getter=lambda j: input_train_y[j]) "
      ]
    },
    {
      "cell_type": "code",
      "execution_count": 23,
      "id": "HUP2JX2uwMcj",
      "metadata": {
        "colab": {
          "base_uri": "https://localhost:8080/",
          "height": 921
        },
        "id": "HUP2JX2uwMcj",
        "outputId": "279575db-cd44-4817-a860-8b4f72568f09",
        "scrolled": true
      },
      "outputs": [
        {
          "output_type": "stream",
          "name": "stderr",
          "text": [
            "/usr/local/lib/python3.8/dist-packages/seaborn/_decorators.py:36: FutureWarning: Pass the following variables as keyword args: x, y. From version 0.12, the only valid positional argument will be `data`, and passing other arguments without an explicit keyword will result in an error or misinterpretation.\n",
            "  warnings.warn(\n"
          ]
        },
        {
          "output_type": "display_data",
          "data": {
            "text/plain": [
              "<Figure size 1500x1000 with 1 Axes>"
            ],
            "image/png": "[encoded data removed]"
          },
          "metadata": {}
        }
      ],
      "source": [
        "# look at the distribution of pictures by letters\n",
        "\n",
        "sns.set(rc={'figure.figsize':(15, 10)})\n",
        "\n",
        "value_count_training = collections.Counter(input_train_y)\n",
        "\n",
        "fig, ax0 = plt.subplots(1, 1, dpi=100)\n",
        "ax = sns.barplot(list(value_count_training.keys()), list(value_count_training.values()), palette='cool')\n",
        "ax.set_xlabel('Handwritten Letters')\n",
        "ax.set_title(\"Numbers Distribution\")\n",
        "plt.show()\n",
        "\n"
      ]
    },
    {
      "cell_type": "markdown",
      "id": "bF8zYkjIwMck",
      "metadata": {
        "id": "bF8zYkjIwMck"
      },
      "source": [
        "## Train the model"
      ]
    },
    {
      "cell_type": "code",
      "source": [
        "!pip install tensorflow_addons"
      ],
      "metadata": {
        "colab": {
          "base_uri": "https://localhost:8080/"
        },
        "id": "aD5IP2YsMKzo",
        "outputId": "e3dc83e5-6e77-4403-da12-b658c297d64c"
      },
      "id": "aD5IP2YsMKzo",
      "execution_count": 27,
      "outputs": [
        {
          "output_type": "stream",
          "name": "stdout",
          "text": [
            "Looking in indexes: https://pypi.org/simple, https://us-python.pkg.dev/colab-wheels/public/simple/\n",
            "Collecting tensorflow_addons\n",
            "  Downloading tensorflow_addons-0.19.0-cp38-cp38-manylinux_2_17_x86_64.manylinux2014_x86_64.whl (1.1 MB)\n",
            "\u001b[2K     \u001b[90m━━━━━━━━━━━━━━━━━━━━━━━━━━━━━━━━━━━━━━━━\u001b[0m \u001b[32m1.1/1.1 MB\u001b[0m \u001b[31m17.0 MB/s\u001b[0m eta \u001b[36m0:00:00\u001b[0m\n",
            "\u001b[?25hRequirement already satisfied: packaging in /usr/local/lib/python3.8/dist-packages (from tensorflow_addons) (21.3)\n",
            "Requirement already satisfied: typeguard>=2.7 in /usr/local/lib/python3.8/dist-packages (from tensorflow_addons) (2.7.1)\n",
            "Requirement already satisfied: pyparsing!=3.0.5,>=2.0.2 in /usr/local/lib/python3.8/dist-packages (from packaging->tensorflow_addons) (3.0.9)\n",
            "Installing collected packages: tensorflow_addons\n",
            "Successfully installed tensorflow_addons-0.19.0\n"
          ]
        }
      ]
    },
    {
      "cell_type": "code",
      "execution_count": 50,
      "id": "C0thzWXewMcl",
      "metadata": {
        "id": "C0thzWXewMcl",
        "scrolled": false
      },
      "outputs": [],
      "source": [
        "from tensorflow import keras\n",
        "from tensorflow.keras import layers\n",
        "import tensorflow as tf\n",
        "import tensorflow_addons as tfa\n",
        "from sklearn.model_selection import train_test_split"
      ]
    },
    {
      "cell_type": "code",
      "execution_count": 51,
      "id": "5479f5e2",
      "metadata": {
        "id": "5479f5e2"
      },
      "outputs": [],
      "source": [
        "X_train, X_test, y_train, y_test = train_test_split(input_train_x, input_train_y, test_size=0.2, random_state=1)"
      ]
    },
    {
      "cell_type": "code",
      "execution_count": 52,
      "id": "694ace24",
      "metadata": {
        "id": "694ace24"
      },
      "outputs": [],
      "source": [
        "num_classes = 36"
      ]
    },
    {
      "cell_type": "code",
      "execution_count": 53,
      "id": "ccde7d46",
      "metadata": {
        "id": "ccde7d46"
      },
      "outputs": [],
      "source": [
        "y_train = keras.utils.to_categorical(y_train, num_classes)\n",
        "y_test = keras.utils.to_categorical(y_test, num_classes)"
      ]
    },
    {
      "cell_type": "code",
      "execution_count": 34,
      "id": "2cb57393",
      "metadata": {
        "colab": {
          "base_uri": "https://localhost:8080/"
        },
        "id": "2cb57393",
        "outputId": "6c12bc55-00ad-487c-8324-44745112d57d"
      },
      "outputs": [
        {
          "output_type": "execute_result",
          "data": {
            "text/plain": [
              "0.0"
            ]
          },
          "metadata": {},
          "execution_count": 34
        }
      ],
      "source": [
        "y_test.min()"
      ]
    },
    {
      "cell_type": "code",
      "execution_count": 35,
      "id": "1cad2651",
      "metadata": {
        "colab": {
          "base_uri": "https://localhost:8080/"
        },
        "id": "1cad2651",
        "outputId": "ff3d092c-92c5-4f67-c074-be6c4daa8a34"
      },
      "outputs": [
        {
          "output_type": "execute_result",
          "data": {
            "text/plain": [
              "1.0"
            ]
          },
          "metadata": {},
          "execution_count": 35
        }
      ],
      "source": [
        "y_test.max()"
      ]
    },
    {
      "cell_type": "code",
      "execution_count": 37,
      "id": "da54a5d2",
      "metadata": {
        "colab": {
          "base_uri": "https://localhost:8080/"
        },
        "id": "da54a5d2",
        "outputId": "e65107d6-796c-47e2-c397-03de388a0e31"
      },
      "outputs": [
        {
          "output_type": "stream",
          "name": "stdout",
          "text": [
            "Model: \"sequential\"\n",
            "_________________________________________________________________\n",
            " Layer (type)                Output Shape              Param #   \n",
            "=================================================================\n",
            " conv2d (Conv2D)             (None, 48, 48, 32)        320       \n",
            "                                                                 \n",
            " max_pooling2d (MaxPooling2D  (None, 24, 24, 32)       0         \n",
            " )                                                               \n",
            "                                                                 \n",
            " conv2d_1 (Conv2D)           (None, 22, 22, 64)        18496     \n",
            "                                                                 \n",
            " max_pooling2d_1 (MaxPooling  (None, 11, 11, 64)       0         \n",
            " 2D)                                                             \n",
            "                                                                 \n",
            " dropout (Dropout)           (None, 11, 11, 64)        0         \n",
            "                                                                 \n",
            " conv2d_2 (Conv2D)           (None, 9, 9, 128)         73856     \n",
            "                                                                 \n",
            " max_pooling2d_2 (MaxPooling  (None, 4, 4, 128)        0         \n",
            " 2D)                                                             \n",
            "                                                                 \n",
            " conv2d_3 (Conv2D)           (None, 2, 2, 256)         295168    \n",
            "                                                                 \n",
            " max_pooling2d_3 (MaxPooling  (None, 1, 1, 256)        0         \n",
            " 2D)                                                             \n",
            "                                                                 \n",
            " dropout_1 (Dropout)         (None, 1, 1, 256)         0         \n",
            "                                                                 \n",
            " flatten (Flatten)           (None, 256)               0         \n",
            "                                                                 \n",
            " dense (Dense)               (None, 1024)              263168    \n",
            "                                                                 \n",
            " dense_1 (Dense)             (None, 512)               524800    \n",
            "                                                                 \n",
            " dense_2 (Dense)             (None, 256)               131328    \n",
            "                                                                 \n",
            " dense_3 (Dense)             (None, 128)               32896     \n",
            "                                                                 \n",
            " dense_4 (Dense)             (None, 36)                4644      \n",
            "                                                                 \n",
            "=================================================================\n",
            "Total params: 1,344,676\n",
            "Trainable params: 1,344,676\n",
            "Non-trainable params: 0\n",
            "_________________________________________________________________\n"
          ]
        }
      ],
      "source": [
        "model = keras.Sequential(\n",
        "    [\n",
        "        keras.Input(shape=[*IMAGE_SHAPE, 1]),\n",
        "        layers.Conv2D(32, kernel_size=(3, 3), activation=layers.LeakyReLU(alpha=0.2)),\n",
        "        layers.MaxPooling2D(pool_size=(2, 2)),\n",
        "        layers.Conv2D(64, kernel_size=(3, 3), activation=layers.LeakyReLU(alpha=0.2)),\n",
        "        layers.MaxPooling2D(pool_size=(2, 2)),\n",
        "        layers.Dropout(0.2),\n",
        "        layers.Conv2D(128, kernel_size=(3, 3), activation=layers.LeakyReLU(alpha=0.2)),\n",
        "        layers.MaxPooling2D(pool_size=(2, 2)),\n",
        "        layers.Conv2D(256, kernel_size=(3, 3), activation=layers.LeakyReLU(alpha=0.2)),\n",
        "        layers.MaxPooling2D(pool_size=(2, 2)),\n",
        "        layers.Dropout(0.4),\n",
        "        layers.Flatten(),\n",
        "     \n",
        "        # layers.Dense(1024, activation=\"relu\"),\n",
        "        layers.Dense(1024, activation=layers.LeakyReLU(alpha=0.2)),\n",
        "        layers.Dense(512, activation=layers.LeakyReLU(alpha=0.2)),\n",
        "        layers.Dense(256, activation=layers.LeakyReLU(alpha=0.2)),\n",
        "        layers.Dense(128, activation=layers.LeakyReLU(alpha=0.2)),\n",
        "\n",
        "        layers.Dense(num_classes, activation=\"softmax\"),\n",
        "    ]\n",
        ")\n",
        "\n",
        "model.summary()"
      ]
    },
    {
      "cell_type": "code",
      "execution_count": 39,
      "id": "3b58613d",
      "metadata": {
        "colab": {
          "base_uri": "https://localhost:8080/"
        },
        "id": "3b58613d",
        "outputId": "59850233-7d56-4791-b537-1b2602a38cc3"
      },
      "outputs": [
        {
          "output_type": "stream",
          "name": "stdout",
          "text": [
            "Epoch 1/25\n",
            "452/452 [==============================] - 10s 19ms/step - loss: 1.7066 - accuracy: 0.4867 - val_loss: 0.5278 - val_accuracy: 0.8365\n",
            "Epoch 2/25\n",
            "452/452 [==============================] - 7s 15ms/step - loss: 0.5085 - accuracy: 0.8410 - val_loss: 0.3046 - val_accuracy: 0.9081\n",
            "Epoch 3/25\n",
            "452/452 [==============================] - 7s 15ms/step - loss: 0.3547 - accuracy: 0.8887 - val_loss: 0.2346 - val_accuracy: 0.9271\n",
            "Epoch 4/25\n",
            "452/452 [==============================] - 7s 15ms/step - loss: 0.2885 - accuracy: 0.9085 - val_loss: 0.2196 - val_accuracy: 0.9314\n",
            "Epoch 5/25\n",
            "452/452 [==============================] - 7s 15ms/step - loss: 0.2463 - accuracy: 0.9227 - val_loss: 0.1833 - val_accuracy: 0.9431\n",
            "Epoch 6/25\n",
            "452/452 [==============================] - 7s 15ms/step - loss: 0.2116 - accuracy: 0.9325 - val_loss: 0.1759 - val_accuracy: 0.9469\n",
            "Epoch 7/25\n",
            "452/452 [==============================] - 7s 15ms/step - loss: 0.1972 - accuracy: 0.9372 - val_loss: 0.1741 - val_accuracy: 0.9504\n",
            "Epoch 8/25\n",
            "452/452 [==============================] - 7s 15ms/step - loss: 0.1813 - accuracy: 0.9426 - val_loss: 0.1571 - val_accuracy: 0.9547\n",
            "Epoch 9/25\n",
            "452/452 [==============================] - 7s 15ms/step - loss: 0.1711 - accuracy: 0.9454 - val_loss: 0.1593 - val_accuracy: 0.9564\n",
            "Epoch 10/25\n",
            "452/452 [==============================] - 7s 15ms/step - loss: 0.1627 - accuracy: 0.9483 - val_loss: 0.1648 - val_accuracy: 0.9543\n",
            "Epoch 11/25\n",
            "452/452 [==============================] - 7s 15ms/step - loss: 0.1454 - accuracy: 0.9541 - val_loss: 0.1386 - val_accuracy: 0.9601\n",
            "Epoch 12/25\n",
            "452/452 [==============================] - 7s 15ms/step - loss: 0.1437 - accuracy: 0.9547 - val_loss: 0.1367 - val_accuracy: 0.9570\n",
            "Epoch 13/25\n",
            "452/452 [==============================] - 7s 15ms/step - loss: 0.1422 - accuracy: 0.9549 - val_loss: 0.1563 - val_accuracy: 0.9551\n",
            "Epoch 14/25\n",
            "452/452 [==============================] - 7s 15ms/step - loss: 0.1281 - accuracy: 0.9593 - val_loss: 0.1187 - val_accuracy: 0.9676\n",
            "Epoch 15/25\n",
            "452/452 [==============================] - 7s 15ms/step - loss: 0.1222 - accuracy: 0.9607 - val_loss: 0.1253 - val_accuracy: 0.9643\n",
            "Epoch 16/25\n",
            "452/452 [==============================] - 7s 15ms/step - loss: 0.1215 - accuracy: 0.9620 - val_loss: 0.1439 - val_accuracy: 0.9584\n",
            "Epoch 17/25\n",
            "452/452 [==============================] - 7s 15ms/step - loss: 0.1136 - accuracy: 0.9636 - val_loss: 0.1248 - val_accuracy: 0.9667\n",
            "Epoch 18/25\n",
            "452/452 [==============================] - 7s 15ms/step - loss: 0.1149 - accuracy: 0.9630 - val_loss: 0.1298 - val_accuracy: 0.9642\n",
            "Epoch 19/25\n",
            "452/452 [==============================] - 7s 15ms/step - loss: 0.1104 - accuracy: 0.9648 - val_loss: 0.1207 - val_accuracy: 0.9667\n",
            "Epoch 20/25\n",
            "452/452 [==============================] - 7s 15ms/step - loss: 0.1078 - accuracy: 0.9660 - val_loss: 0.1388 - val_accuracy: 0.9609\n",
            "Epoch 21/25\n",
            "452/452 [==============================] - 7s 16ms/step - loss: 0.1017 - accuracy: 0.9686 - val_loss: 0.1331 - val_accuracy: 0.9645\n",
            "Epoch 22/25\n",
            "452/452 [==============================] - 7s 15ms/step - loss: 0.1030 - accuracy: 0.9671 - val_loss: 0.1355 - val_accuracy: 0.9635\n",
            "Epoch 23/25\n",
            "452/452 [==============================] - 7s 15ms/step - loss: 0.1049 - accuracy: 0.9662 - val_loss: 0.1414 - val_accuracy: 0.9626\n",
            "Epoch 24/25\n",
            "452/452 [==============================] - 7s 15ms/step - loss: 0.0977 - accuracy: 0.9697 - val_loss: 0.1095 - val_accuracy: 0.9718\n",
            "Epoch 25/25\n",
            "452/452 [==============================] - 7s 15ms/step - loss: 0.0941 - accuracy: 0.9696 - val_loss: 0.1155 - val_accuracy: 0.9684\n"
          ]
        },
        {
          "output_type": "execute_result",
          "data": {
            "text/plain": [
              "<keras.callbacks.History at 0x7f7214b7fa90>"
            ]
          },
          "metadata": {},
          "execution_count": 39
        }
      ],
      "source": [
        "step = tf.Variable(0, trainable=False)\n",
        "schedule = tf.optimizers.schedules.PiecewiseConstantDecay(\n",
        "    [10000, 15000], [1e-0, 1e-1, 1e-2])\n",
        "# lr and wd can be a function or a tensor\n",
        "lr = 1e-1 * schedule(step)\n",
        "wd = lambda: 1e-4 * schedule(step)\n",
        "\n",
        "batch_size = 128\n",
        "epochs = 25\n",
        "\n",
        "model.compile(\n",
        "    loss=\"categorical_crossentropy\", \n",
        "    optimizer=tfa.optimizers.AdamW(weight_decay=wd),\n",
        "    metrics=[\"accuracy\"])\n",
        "\n",
        "model.fit(X_train, y_train, batch_size=batch_size, epochs=epochs, validation_split=0.1)"
      ]
    },
    {
      "cell_type": "code",
      "execution_count": 40,
      "id": "ad79726e",
      "metadata": {
        "colab": {
          "base_uri": "https://localhost:8080/"
        },
        "id": "ad79726e",
        "outputId": "3f1321f1-62f0-4eca-efa3-1b2edb64d52c"
      },
      "outputs": [
        {
          "output_type": "stream",
          "name": "stdout",
          "text": [
            "Evaluate on test data\n",
            "126/126 [==============================] - 1s 7ms/step - loss: 0.1059 - accuracy: 0.9704\n",
            "test loss, test acc: [0.10590579360723495, 0.9703920483589172]\n",
            "Generate predictions for 3 samples\n",
            "1/1 [==============================] - 0s 178ms/step\n",
            "predictions shape: (3, 36)\n"
          ]
        }
      ],
      "source": [
        "# Evaluate the model on the test data using `evaluate`\n",
        "print(\"Evaluate on test data\")\n",
        "results = model.evaluate(X_test, y_test, batch_size=128)\n",
        "print(\"test loss, test acc:\", results)\n",
        "\n",
        "# Generate predictions (probabilities -- the output of the last layer)\n",
        "# on new data using `predict`\n",
        "print(\"Generate predictions for 3 samples\")\n",
        "predictions = model.predict(X_test[:3])\n",
        "print(\"predictions shape:\", predictions.shape)"
      ]
    },
    {
      "cell_type": "code",
      "execution_count": 41,
      "id": "891d36c2",
      "metadata": {
        "id": "891d36c2"
      },
      "outputs": [],
      "source": [
        "def one_hot_to_pred(one_hot):\n",
        "    xr = (np.argmax(one_hot, axis=1) + 1).reshape(-1, 1)\n",
        "    return xr"
      ]
    },
    {
      "cell_type": "markdown",
      "id": "ys_DVcNYwMcm",
      "metadata": {
        "id": "ys_DVcNYwMcm"
      },
      "source": [
        "## Prepairing data before uploading to the site "
      ]
    },
    {
      "cell_type": "code",
      "execution_count": 42,
      "id": "McxiYo0jwMcm",
      "metadata": {
        "colab": {
          "base_uri": "https://localhost:8080/",
          "height": 505
        },
        "id": "McxiYo0jwMcm",
        "outputId": "019f0d34-124c-4406-8813-43cc8ff98da7"
      },
      "outputs": [
        {
          "output_type": "display_data",
          "data": {
            "text/plain": [
              "(8904, 2501)"
            ]
          },
          "metadata": {}
        },
        {
          "output_type": "display_data",
          "data": {
            "text/plain": [
              "            id  pixel_0  pixel_1  pixel_2  pixel_3  pixel_4  pixel_5  pixel_6  \\\n",
              "0     276f619c        0        0        0        0        0        0        0   \n",
              "1     8ced6677        0        0        0        0        0        0        0   \n",
              "2     af549c74        0        0        0        0        0        0        0   \n",
              "3     59170e1b        0        0        0        0        0        0        0   \n",
              "4     ac25b7f0        0        0        0        0        0        0        0   \n",
              "...        ...      ...      ...      ...      ...      ...      ...      ...   \n",
              "8899  7ee547cf        0        0        0        0        0        0        0   \n",
              "8900  dfc2f44d        0        0        0        0        0        0        0   \n",
              "8901  543715a7        0        0        0        0        0        0        0   \n",
              "8902  47d51e67        0        0        0        0        0        0        0   \n",
              "8903  0c042f16        0        0        0        0        0        0        0   \n",
              "\n",
              "      pixel_7  pixel_8  ...  pixel_2490  pixel_2491  pixel_2492  pixel_2493  \\\n",
              "0           0        0  ...           0           0           0           0   \n",
              "1           0        0  ...           0           0           0           0   \n",
              "2           0        0  ...           0           0           0           0   \n",
              "3           0        0  ...           0           0           0           0   \n",
              "4           0        0  ...           0           0           0           0   \n",
              "...       ...      ...  ...         ...         ...         ...         ...   \n",
              "8899        0        0  ...           0           0           0           0   \n",
              "8900        0        0  ...           0           0           0           0   \n",
              "8901        0        0  ...           0           0           0           0   \n",
              "8902        0        0  ...           0           0           0           0   \n",
              "8903        0        0  ...           0           0           0           0   \n",
              "\n",
              "      pixel_2494  pixel_2495  pixel_2496  pixel_2497  pixel_2498  pixel_2499  \n",
              "0              0           0           0           0           0           0  \n",
              "1              0           0           0           0           0           0  \n",
              "2              0           0           0           0           0           0  \n",
              "3              0           0           0           0           0           0  \n",
              "4              0           0           0           0           0           0  \n",
              "...          ...         ...         ...         ...         ...         ...  \n",
              "8899           0           0           0           0           0           0  \n",
              "8900           0           0           0           0           0           0  \n",
              "8901           0           0           0           0           0           0  \n",
              "8902           0           0           0           0           0           0  \n",
              "8903           0           0           0           0           0           0  \n",
              "\n",
              "[8904 rows x 2501 columns]"
            ],
            "text/html": [
              "\n",
              "  <div id=\"df-d47c5127-049b-4235-929a-a14a4c6e7c98\">\n",
              "    <div class=\"colab-df-container\">\n",
              "      <div>\n",
              "<style scoped>\n",
              "    .dataframe tbody tr th:only-of-type {\n",
              "        vertical-align: middle;\n",
              "    }\n",
              "\n",
              "    .dataframe tbody tr th {\n",
              "        vertical-align: top;\n",
              "    }\n",
              "\n",
              "    .dataframe thead th {\n",
              "        text-align: right;\n",
              "    }\n",
              "</style>\n",
              "<table border=\"1\" class=\"dataframe\">\n",
              "  <thead>\n",
              "    <tr style=\"text-align: right;\">\n",
              "      <th></th>\n",
              "      <th>id</th>\n",
              "      <th>pixel_0</th>\n",
              "      <th>pixel_1</th>\n",
              "      <th>pixel_2</th>\n",
              "      <th>pixel_3</th>\n",
              "      <th>pixel_4</th>\n",
              "      <th>pixel_5</th>\n",
              "      <th>pixel_6</th>\n",
              "      <th>pixel_7</th>\n",
              "      <th>pixel_8</th>\n",
              "      <th>...</th>\n",
              "      <th>pixel_2490</th>\n",
              "      <th>pixel_2491</th>\n",
              "      <th>pixel_2492</th>\n",
              "      <th>pixel_2493</th>\n",
              "      <th>pixel_2494</th>\n",
              "      <th>pixel_2495</th>\n",
              "      <th>pixel_2496</th>\n",
              "      <th>pixel_2497</th>\n",
              "      <th>pixel_2498</th>\n",
              "      <th>pixel_2499</th>\n",
              "    </tr>\n",
              "  </thead>\n",
              "  <tbody>\n",
              "    <tr>\n",
              "      <th>0</th>\n",
              "      <td>276f619c</td>\n",
              "      <td>0</td>\n",
              "      <td>0</td>\n",
              "      <td>0</td>\n",
              "      <td>0</td>\n",
              "      <td>0</td>\n",
              "      <td>0</td>\n",
              "      <td>0</td>\n",
              "      <td>0</td>\n",
              "      <td>0</td>\n",
              "      <td>...</td>\n",
              "      <td>0</td>\n",
              "      <td>0</td>\n",
              "      <td>0</td>\n",
              "      <td>0</td>\n",
              "      <td>0</td>\n",
              "      <td>0</td>\n",
              "      <td>0</td>\n",
              "      <td>0</td>\n",
              "      <td>0</td>\n",
              "      <td>0</td>\n",
              "    </tr>\n",
              "    <tr>\n",
              "      <th>1</th>\n",
              "      <td>8ced6677</td>\n",
              "      <td>0</td>\n",
              "      <td>0</td>\n",
              "      <td>0</td>\n",
              "      <td>0</td>\n",
              "      <td>0</td>\n",
              "      <td>0</td>\n",
              "      <td>0</td>\n",
              "      <td>0</td>\n",
              "      <td>0</td>\n",
              "      <td>...</td>\n",
              "      <td>0</td>\n",
              "      <td>0</td>\n",
              "      <td>0</td>\n",
              "      <td>0</td>\n",
              "      <td>0</td>\n",
              "      <td>0</td>\n",
              "      <td>0</td>\n",
              "      <td>0</td>\n",
              "      <td>0</td>\n",
              "      <td>0</td>\n",
              "    </tr>\n",
              "    <tr>\n",
              "      <th>2</th>\n",
              "      <td>af549c74</td>\n",
              "      <td>0</td>\n",
              "      <td>0</td>\n",
              "      <td>0</td>\n",
              "      <td>0</td>\n",
              "      <td>0</td>\n",
              "      <td>0</td>\n",
              "      <td>0</td>\n",
              "      <td>0</td>\n",
              "      <td>0</td>\n",
              "      <td>...</td>\n",
              "      <td>0</td>\n",
              "      <td>0</td>\n",
              "      <td>0</td>\n",
              "      <td>0</td>\n",
              "      <td>0</td>\n",
              "      <td>0</td>\n",
              "      <td>0</td>\n",
              "      <td>0</td>\n",
              "      <td>0</td>\n",
              "      <td>0</td>\n",
              "    </tr>\n",
              "    <tr>\n",
              "      <th>3</th>\n",
              "      <td>59170e1b</td>\n",
              "      <td>0</td>\n",
              "      <td>0</td>\n",
              "      <td>0</td>\n",
              "      <td>0</td>\n",
              "      <td>0</td>\n",
              "      <td>0</td>\n",
              "      <td>0</td>\n",
              "      <td>0</td>\n",
              "      <td>0</td>\n",
              "      <td>...</td>\n",
              "      <td>0</td>\n",
              "      <td>0</td>\n",
              "      <td>0</td>\n",
              "      <td>0</td>\n",
              "      <td>0</td>\n",
              "      <td>0</td>\n",
              "      <td>0</td>\n",
              "      <td>0</td>\n",
              "      <td>0</td>\n",
              "      <td>0</td>\n",
              "    </tr>\n",
              "    <tr>\n",
              "      <th>4</th>\n",
              "      <td>ac25b7f0</td>\n",
              "      <td>0</td>\n",
              "      <td>0</td>\n",
              "      <td>0</td>\n",
              "      <td>0</td>\n",
              "      <td>0</td>\n",
              "      <td>0</td>\n",
              "      <td>0</td>\n",
              "      <td>0</td>\n",
              "      <td>0</td>\n",
              "      <td>...</td>\n",
              "      <td>0</td>\n",
              "      <td>0</td>\n",
              "      <td>0</td>\n",
              "      <td>0</td>\n",
              "      <td>0</td>\n",
              "      <td>0</td>\n",
              "      <td>0</td>\n",
              "      <td>0</td>\n",
              "      <td>0</td>\n",
              "      <td>0</td>\n",
              "    </tr>\n",
              "    <tr>\n",
              "      <th>...</th>\n",
              "      <td>...</td>\n",
              "      <td>...</td>\n",
              "      <td>...</td>\n",
              "      <td>...</td>\n",
              "      <td>...</td>\n",
              "      <td>...</td>\n",
              "      <td>...</td>\n",
              "      <td>...</td>\n",
              "      <td>...</td>\n",
              "      <td>...</td>\n",
              "      <td>...</td>\n",
              "      <td>...</td>\n",
              "      <td>...</td>\n",
              "      <td>...</td>\n",
              "      <td>...</td>\n",
              "      <td>...</td>\n",
              "      <td>...</td>\n",
              "      <td>...</td>\n",
              "      <td>...</td>\n",
              "      <td>...</td>\n",
              "      <td>...</td>\n",
              "    </tr>\n",
              "    <tr>\n",
              "      <th>8899</th>\n",
              "      <td>7ee547cf</td>\n",
              "      <td>0</td>\n",
              "      <td>0</td>\n",
              "      <td>0</td>\n",
              "      <td>0</td>\n",
              "      <td>0</td>\n",
              "      <td>0</td>\n",
              "      <td>0</td>\n",
              "      <td>0</td>\n",
              "      <td>0</td>\n",
              "      <td>...</td>\n",
              "      <td>0</td>\n",
              "      <td>0</td>\n",
              "      <td>0</td>\n",
              "      <td>0</td>\n",
              "      <td>0</td>\n",
              "      <td>0</td>\n",
              "      <td>0</td>\n",
              "      <td>0</td>\n",
              "      <td>0</td>\n",
              "      <td>0</td>\n",
              "    </tr>\n",
              "    <tr>\n",
              "      <th>8900</th>\n",
              "      <td>dfc2f44d</td>\n",
              "      <td>0</td>\n",
              "      <td>0</td>\n",
              "      <td>0</td>\n",
              "      <td>0</td>\n",
              "      <td>0</td>\n",
              "      <td>0</td>\n",
              "      <td>0</td>\n",
              "      <td>0</td>\n",
              "      <td>0</td>\n",
              "      <td>...</td>\n",
              "      <td>0</td>\n",
              "      <td>0</td>\n",
              "      <td>0</td>\n",
              "      <td>0</td>\n",
              "      <td>0</td>\n",
              "      <td>0</td>\n",
              "      <td>0</td>\n",
              "      <td>0</td>\n",
              "      <td>0</td>\n",
              "      <td>0</td>\n",
              "    </tr>\n",
              "    <tr>\n",
              "      <th>8901</th>\n",
              "      <td>543715a7</td>\n",
              "      <td>0</td>\n",
              "      <td>0</td>\n",
              "      <td>0</td>\n",
              "      <td>0</td>\n",
              "      <td>0</td>\n",
              "      <td>0</td>\n",
              "      <td>0</td>\n",
              "      <td>0</td>\n",
              "      <td>0</td>\n",
              "      <td>...</td>\n",
              "      <td>0</td>\n",
              "      <td>0</td>\n",
              "      <td>0</td>\n",
              "      <td>0</td>\n",
              "      <td>0</td>\n",
              "      <td>0</td>\n",
              "      <td>0</td>\n",
              "      <td>0</td>\n",
              "      <td>0</td>\n",
              "      <td>0</td>\n",
              "    </tr>\n",
              "    <tr>\n",
              "      <th>8902</th>\n",
              "      <td>47d51e67</td>\n",
              "      <td>0</td>\n",
              "      <td>0</td>\n",
              "      <td>0</td>\n",
              "      <td>0</td>\n",
              "      <td>0</td>\n",
              "      <td>0</td>\n",
              "      <td>0</td>\n",
              "      <td>0</td>\n",
              "      <td>0</td>\n",
              "      <td>...</td>\n",
              "      <td>0</td>\n",
              "      <td>0</td>\n",
              "      <td>0</td>\n",
              "      <td>0</td>\n",
              "      <td>0</td>\n",
              "      <td>0</td>\n",
              "      <td>0</td>\n",
              "      <td>0</td>\n",
              "      <td>0</td>\n",
              "      <td>0</td>\n",
              "    </tr>\n",
              "    <tr>\n",
              "      <th>8903</th>\n",
              "      <td>0c042f16</td>\n",
              "      <td>0</td>\n",
              "      <td>0</td>\n",
              "      <td>0</td>\n",
              "      <td>0</td>\n",
              "      <td>0</td>\n",
              "      <td>0</td>\n",
              "      <td>0</td>\n",
              "      <td>0</td>\n",
              "      <td>0</td>\n",
              "      <td>...</td>\n",
              "      <td>0</td>\n",
              "      <td>0</td>\n",
              "      <td>0</td>\n",
              "      <td>0</td>\n",
              "      <td>0</td>\n",
              "      <td>0</td>\n",
              "      <td>0</td>\n",
              "      <td>0</td>\n",
              "      <td>0</td>\n",
              "      <td>0</td>\n",
              "    </tr>\n",
              "  </tbody>\n",
              "</table>\n",
              "<p>8904 rows × 2501 columns</p>\n",
              "</div>\n",
              "      <button class=\"colab-df-convert\" onclick=\"convertToInteractive('df-d47c5127-049b-4235-929a-a14a4c6e7c98')\"\n",
              "              title=\"Convert this dataframe to an interactive table.\"\n",
              "              style=\"display:none;\">\n",
              "        \n",
              "  <svg xmlns=\"http://www.w3.org/2000/svg\" height=\"24px\"viewBox=\"0 0 24 24\"\n",
              "       width=\"24px\">\n",
              "    <path d=\"M0 0h24v24H0V0z\" fill=\"none\"/>\n",
              "    <path d=\"M18.56 5.44l.94 2.06.94-2.06 2.06-.94-2.06-.94-.94-2.06-.94 2.06-2.06.94zm-11 1L8.5 8.5l.94-2.06 2.06-.94-2.06-.94L8.5 2.5l-.94 2.06-2.06.94zm10 10l.94 2.06.94-2.06 2.06-.94-2.06-.94-.94-2.06-.94 2.06-2.06.94z\"/><path d=\"M17.41 7.96l-1.37-1.37c-.4-.4-.92-.59-1.43-.59-.52 0-1.04.2-1.43.59L10.3 9.45l-7.72 7.72c-.78.78-.78 2.05 0 2.83L4 21.41c.39.39.9.59 1.41.59.51 0 1.02-.2 1.41-.59l7.78-7.78 2.81-2.81c.8-.78.8-2.07 0-2.86zM5.41 20L4 18.59l7.72-7.72 1.47 1.35L5.41 20z\"/>\n",
              "  </svg>\n",
              "      </button>\n",
              "      \n",
              "  <style>\n",
              "    .colab-df-container {\n",
              "      display:flex;\n",
              "      flex-wrap:wrap;\n",
              "      gap: 12px;\n",
              "    }\n",
              "\n",
              "    .colab-df-convert {\n",
              "      background-color: #E8F0FE;\n",
              "      border: none;\n",
              "      border-radius: 50%;\n",
              "      cursor: pointer;\n",
              "      display: none;\n",
              "      fill: #1967D2;\n",
              "      height: 32px;\n",
              "      padding: 0 0 0 0;\n",
              "      width: 32px;\n",
              "    }\n",
              "\n",
              "    .colab-df-convert:hover {\n",
              "      background-color: #E2EBFA;\n",
              "      box-shadow: 0px 1px 2px rgba(60, 64, 67, 0.3), 0px 1px 3px 1px rgba(60, 64, 67, 0.15);\n",
              "      fill: #174EA6;\n",
              "    }\n",
              "\n",
              "    [theme=dark] .colab-df-convert {\n",
              "      background-color: #3B4455;\n",
              "      fill: #D2E3FC;\n",
              "    }\n",
              "\n",
              "    [theme=dark] .colab-df-convert:hover {\n",
              "      background-color: #434B5C;\n",
              "      box-shadow: 0px 1px 3px 1px rgba(0, 0, 0, 0.15);\n",
              "      filter: drop-shadow(0px 1px 2px rgba(0, 0, 0, 0.3));\n",
              "      fill: #FFFFFF;\n",
              "    }\n",
              "  </style>\n",
              "\n",
              "      <script>\n",
              "        const buttonEl =\n",
              "          document.querySelector('#df-d47c5127-049b-4235-929a-a14a4c6e7c98 button.colab-df-convert');\n",
              "        buttonEl.style.display =\n",
              "          google.colab.kernel.accessAllowed ? 'block' : 'none';\n",
              "\n",
              "        async function convertToInteractive(key) {\n",
              "          const element = document.querySelector('#df-d47c5127-049b-4235-929a-a14a4c6e7c98');\n",
              "          const dataTable =\n",
              "            await google.colab.kernel.invokeFunction('convertToInteractive',\n",
              "                                                     [key], {});\n",
              "          if (!dataTable) return;\n",
              "\n",
              "          const docLinkHtml = 'Like what you see? Visit the ' +\n",
              "            '<a target=\"_blank\" href=https://colab.research.google.com/notebooks/data_table.ipynb>data table notebook</a>'\n",
              "            + ' to learn more about interactive tables.';\n",
              "          element.innerHTML = '';\n",
              "          dataTable['output_type'] = 'display_data';\n",
              "          await google.colab.output.renderOutput(dataTable, element);\n",
              "          const docLink = document.createElement('div');\n",
              "          docLink.innerHTML = docLinkHtml;\n",
              "          element.appendChild(docLink);\n",
              "        }\n",
              "      </script>\n",
              "    </div>\n",
              "  </div>\n",
              "  "
            ]
          },
          "metadata": {}
        }
      ],
      "source": [
        "# Look at the data \n",
        "raw_validation_data = pd.read_csv(FILE_VALIDATION)\n",
        "\n",
        "display(raw_validation_data.shape)\n",
        "display(raw_validation_data)"
      ]
    },
    {
      "cell_type": "code",
      "execution_count": 43,
      "id": "FOQZV-OXwMcm",
      "metadata": {
        "id": "FOQZV-OXwMcm"
      },
      "outputs": [],
      "source": [
        "# predict \n",
        "SUBMISSION_FILE = 'my_submissionf5.csv'\n",
        "\n",
        "data_for_prediction = prepair_x(raw_validation_data.iloc[:,1:])\n",
        "\n",
        "predictions = model(data_for_prediction)"
      ]
    },
    {
      "cell_type": "code",
      "execution_count": 44,
      "id": "40195011",
      "metadata": {
        "colab": {
          "base_uri": "https://localhost:8080/"
        },
        "id": "40195011",
        "outputId": "ef334f79-41aa-4fad-fcb2-824e2707328e"
      },
      "outputs": [
        {
          "output_type": "execute_result",
          "data": {
            "text/plain": [
              "<tf.Tensor: shape=(8904, 36), dtype=float32, numpy=\n",
              "array([[6.8573511e-13, 1.2232591e-13, 1.5447309e-14, ..., 5.3376205e-12,\n",
              "        1.9039177e-15, 8.2384837e-12],\n",
              "       [9.4071417e-10, 7.8538802e-09, 3.0207038e-11, ..., 3.4164861e-12,\n",
              "        6.1846022e-09, 2.1714388e-07],\n",
              "       [1.6907818e-09, 2.3656712e-09, 4.9337068e-10, ..., 5.3744418e-09,\n",
              "        2.9374655e-10, 2.1457396e-08],\n",
              "       ...,\n",
              "       [2.7019603e-13, 2.6498065e-16, 3.5538228e-16, ..., 9.9999988e-01,\n",
              "        6.2325725e-13, 3.1096156e-10],\n",
              "       [4.8039484e-16, 1.1321891e-11, 9.8919303e-11, ..., 9.1517328e-15,\n",
              "        2.6387098e-13, 6.1138762e-13],\n",
              "       [2.9239195e-07, 9.9205071e-12, 1.8228128e-08, ..., 5.2440163e-09,\n",
              "        3.4566046e-06, 4.7335909e-09]], dtype=float32)>"
            ]
          },
          "metadata": {},
          "execution_count": 44
        }
      ],
      "source": [
        "predictions"
      ]
    },
    {
      "cell_type": "code",
      "execution_count": 45,
      "id": "b0cdb8c6",
      "metadata": {
        "id": "b0cdb8c6"
      },
      "outputs": [],
      "source": [
        "pred = one_hot_to_pred(predictions).flatten()"
      ]
    },
    {
      "cell_type": "code",
      "execution_count": 46,
      "id": "73ae76bd",
      "metadata": {
        "colab": {
          "base_uri": "https://localhost:8080/"
        },
        "id": "73ae76bd",
        "outputId": "4a2e554c-ff89-4fbe-bad0-6bd4d59486b4"
      },
      "outputs": [
        {
          "output_type": "execute_result",
          "data": {
            "text/plain": [
              "array([21, 11, 21, ..., 34,  7, 15])"
            ]
          },
          "metadata": {},
          "execution_count": 46
        }
      ],
      "source": [
        "pred"
      ]
    },
    {
      "cell_type": "code",
      "execution_count": 47,
      "id": "sf9jIPB_wMcm",
      "metadata": {
        "id": "sf9jIPB_wMcm"
      },
      "outputs": [],
      "source": [
        "# transfer data to CSV format \n",
        "submissions=pd.DataFrame({\"id\": raw_validation_data['id'].values,\n",
        "                          \"label\": pred})\n"
      ]
    },
    {
      "cell_type": "code",
      "execution_count": 49,
      "id": "h7EKQGTs9hyp",
      "metadata": {
        "id": "h7EKQGTs9hyp"
      },
      "outputs": [],
      "source": [
        "submissions.to_csv(SUBMISSION_FILE, index=False, header=True)"
      ]
    }
  ],
  "metadata": {
    "colab": {
      "collapsed_sections": [
        "3XJmQQvLwMcg",
        "W_kyR3HawMch"
      ],
      "provenance": [],
      "toc_visible": true,
      "include_colab_link": true
    },
    "gpuClass": "standard",
    "kernelspec": {
      "display_name": "Python 3 (ipykernel)",
      "language": "python",
      "name": "python3"
    },
    "language_info": {
      "codemirror_mode": {
        "name": "ipython",
        "version": 3
      },
      "file_extension": ".py",
      "mimetype": "text/x-python",
      "name": "python",
      "nbconvert_exporter": "python",
      "pygments_lexer": "ipython3",
      "version": "3.9.7"
    },
    "accelerator": "GPU"
  },
  "nbformat": 4,
  "nbformat_minor": 5
}