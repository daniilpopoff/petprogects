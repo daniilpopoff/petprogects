{
  "cells": [
    {
      "cell_type": "markdown",
      "metadata": {
        "id": "view-in-github",
        "colab_type": "text"
      },
      "source": [
        "<a href=\"https://colab.research.google.com/github/daniilpopoff/petprogects/blob/main/homework.ipynb\" target=\"_parent\"><img src=\"https://colab.research.google.com/assets/colab-badge.svg\" alt=\"Open In Colab\"/></a>"
      ]
    },
    {
      "cell_type": "markdown",
      "metadata": {
        "id": "FS4Oyvz3Xa81"
      },
      "source": [
        "Atalov S. (TSI AUCA)\n",
        "\n",
        "---"
      ]
    },
    {
      "cell_type": "markdown",
      "metadata": {
        "id": "jjq5nqTwXa89"
      },
      "source": [
        "### NAME: Daniil\n",
        "### DATE: 26 Mar 23"
      ]
    },
    {
      "cell_type": "markdown",
      "metadata": {
        "id": "v1m2Y1LWXa8-"
      },
      "source": [
        "### 1. A list with numbers is given. Collect in a new list all numbers less than 10.\n",
        "Дается список с числами. Собрать в новом списке все числа которые меньше 10."
      ]
    },
    {
      "cell_type": "code",
      "execution_count": 4,
      "metadata": {
        "id": "tEORtE9AXa8_",
        "colab": {
          "base_uri": "https://localhost:8080/"
        },
        "outputId": "24d7d30b-c8d2-46b8-f53f-053eaedd2b67"
      },
      "outputs": [
        {
          "output_type": "execute_result",
          "data": {
            "text/plain": [
              "[-1, 0, 1, 2, 3, 4, 5, 6, 7, 8, 9]"
            ]
          },
          "metadata": {},
          "execution_count": 4
        }
      ],
      "source": [
        "L = [-1, 0, 1, 2, 3, 4, 5, 6, 7, 8, 9, 10, 11, 12, 13, 14, 15, 16, 17, 18, 19]\n",
        "num_less_10  = []\n",
        "for i in L:\n",
        "  if i < 10:\n",
        "    num_less_10.append(i)\n",
        "num_less_10\n",
        "\n",
        "\n"
      ]
    },
    {
      "cell_type": "markdown",
      "metadata": {
        "id": "_nHT1s5kXa9A"
      },
      "source": [
        "### 2. A list with numbers is given. Collect in a new list all the numbers that are divisible by 3 and 5.\n",
        "Дается список с числами. Собрать в новом списке все числа которые делятся на 3 и на 5."
      ]
    },
    {
      "cell_type": "code",
      "execution_count": 5,
      "metadata": {
        "id": "vDgH6fzXXa9B",
        "colab": {
          "base_uri": "https://localhost:8080/"
        },
        "outputId": "d90e68d0-3a33-4493-a7a3-cb9b95b459f1"
      },
      "outputs": [
        {
          "output_type": "execute_result",
          "data": {
            "text/plain": [
              "[0, 15]"
            ]
          },
          "metadata": {},
          "execution_count": 5
        }
      ],
      "source": [
        "L = [-1, 0, 1, 2, 3, 4, 5, 6, 7, 8, 9, 10, 11, 12, 13, 14, 15, 16, 17, 18, 19]\n",
        "list_3_5 = []\n",
        "for i in L:\n",
        "  if i % 3 == 0 and i % 5 == 0:\n",
        "    list_3_5.append(i)\n",
        "list_3_5\n",
        "\n"
      ]
    },
    {
      "cell_type": "markdown",
      "metadata": {
        "id": "-zAbtVRrXa9C"
      },
      "source": [
        "### 3. A list with numbers is given. Collect in the new list the squares (to the second degree) of all numbers that are less than 10\n",
        "Дается список с числами. Собрать в новом списке квадраты (во второй степени) всех чисел которые меньше 10"
      ]
    },
    {
      "cell_type": "code",
      "execution_count": 8,
      "metadata": {
        "id": "NzHFxaarXa9D",
        "colab": {
          "base_uri": "https://localhost:8080/"
        },
        "outputId": "9098415b-0b50-4b3b-c343-497959ef7b1f"
      },
      "outputs": [
        {
          "output_type": "execute_result",
          "data": {
            "text/plain": [
              "[1, 0, 1, 4, 9, 16, 25, 36, 49, 64, 81]"
            ]
          },
          "metadata": {},
          "execution_count": 8
        }
      ],
      "source": [
        "L = [-1, 0, 1, 2, 3, 4, 5, 6, 7, 8, 9, 10, 11, 12, 13, 14, 15, 16, 17, 18, 19]\n",
        "squares = []\n",
        "for i in L:\n",
        "  if i < 10 :\n",
        "    squares.append((i)**2)\n",
        "squares"
      ]
    },
    {
      "cell_type": "markdown",
      "metadata": {
        "id": "Xv9Cc0L2Xa9E"
      },
      "source": [
        "### 4. A list with numbers is given. Find the number of positive elements in the given list.\n",
        "Дается список с числами. Найдите количество положительных элементов в данном списке."
      ]
    },
    {
      "cell_type": "code",
      "execution_count": 11,
      "metadata": {
        "id": "sY4FAb0jXa9F",
        "colab": {
          "base_uri": "https://localhost:8080/"
        },
        "outputId": "7c693de5-06c0-439b-bdc6-59a4f973d9a7"
      },
      "outputs": [
        {
          "output_type": "execute_result",
          "data": {
            "text/plain": [
              "8"
            ]
          },
          "metadata": {},
          "execution_count": 11
        }
      ],
      "source": [
        "L = [-1, 0, -1, -2, -3, 4, 5, 6, -7, 8, 9, -10, 11, 12, -13, 14, 15, -16, 17, 18, 19]\n",
        "num_pos =  sum(1 for i  in L if i < 0)\n",
        "num_pos\n"
      ]
    },
    {
      "cell_type": "markdown",
      "metadata": {
        "id": "JwbLLpg_Xa9G"
      },
      "source": [
        "### 5. A list with numbers is given. Output the value of the smallest of all positive elements in the given list. (don't use list methods!)\n",
        "Дается список с числами. Выведите значение наименьшего из всех положительных элементов в данном списке. (Нельзя использовать готовые методы списков!)"
      ]
    },
    {
      "cell_type": "code",
      "execution_count": 16,
      "metadata": {
        "id": "dm10n0LxXa9G",
        "colab": {
          "base_uri": "https://localhost:8080/"
        },
        "outputId": "197c4bc8-15f4-4bb0-8268-553dc9a64ea7"
      },
      "outputs": [
        {
          "output_type": "execute_result",
          "data": {
            "text/plain": [
              "-16"
            ]
          },
          "metadata": {},
          "execution_count": 16
        }
      ],
      "source": [
        "import random\n",
        "L = [-1, 5, -1, -2, -3, 4, 5, 6, -7, 8, 9, -10, 11, 12, -13, 14, 15, -16, 17, 18, 19]\n",
        "smallest = random.choice(L)\n",
        "for i in L:\n",
        "  if i < 0 and i < smallest:\n",
        "    smallest = i\n",
        "smallest"
      ]
    },
    {
      "cell_type": "markdown",
      "metadata": {
        "id": "s_l9mgllXa9H"
      },
      "source": [
        "### 6. A list with numbers is given. Print the value of the smallest odd element in the given list.\n",
        "Дается список с числами. Выведите значение наименьшего нечетного элемента в данном списке.\n"
      ]
    },
    {
      "cell_type": "code",
      "execution_count": 28,
      "metadata": {
        "id": "-E1IX6vpXa9H",
        "colab": {
          "base_uri": "https://localhost:8080/"
        },
        "outputId": "5c407c8a-8b8a-44af-885b-fda73f3fa5a1"
      },
      "outputs": [
        {
          "output_type": "execute_result",
          "data": {
            "text/plain": [
              "-13"
            ]
          },
          "metadata": {},
          "execution_count": 28
        }
      ],
      "source": [
        "\n",
        "L = [-1, 5, -1, -2, -3, 4, 5, 6, -7, 8, 9, -10, 11, 12, -13, 14, 15, -16, 17, 18, 19]\n",
        "smallest_odd = random.choice(L)\n",
        "for i in L:\n",
        "  if i % 2 != 0 and i < smallest_odd:\n",
        "    smallest_odd = i \n",
        "smallest_odd \n",
        "#-13 % 2\n"
      ]
    },
    {
      "cell_type": "markdown",
      "metadata": {
        "id": "izarqSVAXa9I"
      },
      "source": [
        "### 7. A list with numbers is given. Output the elements of this list in reverse order. (don't use list methods!)\n",
        "Дается список с числами. Выведите элементы данного списка в обратном порядке. (Нельзя использовать готовые методы списков!)"
      ]
    },
    {
      "cell_type": "code",
      "execution_count": 41,
      "metadata": {
        "id": "ACjFuXZbXa9I",
        "colab": {
          "base_uri": "https://localhost:8080/"
        },
        "outputId": "5b00cafd-e6a5-4d61-da8c-366db51373bf"
      },
      "outputs": [
        {
          "output_type": "execute_result",
          "data": {
            "text/plain": [
              "[19,\n",
              " 18,\n",
              " 17,\n",
              " -16,\n",
              " 15,\n",
              " 14,\n",
              " -13,\n",
              " 12,\n",
              " 11,\n",
              " -10,\n",
              " 9,\n",
              " 8,\n",
              " -7,\n",
              " 6,\n",
              " 5,\n",
              " 4,\n",
              " -3,\n",
              " -2,\n",
              " -1,\n",
              " 5,\n",
              " -1]"
            ]
          },
          "metadata": {},
          "execution_count": 41
        }
      ],
      "source": [
        "L = [-1, 5, -1, -2, -3, 4, 5, 6, -7, 8, 9, -10, 11, 12, -13, 14, 15, -16, 17, 18, 19]\n",
        "L[::-1]\n"
      ]
    },
    {
      "cell_type": "markdown",
      "metadata": {
        "id": "w3yPg-5DXa9J"
      },
      "source": [
        "### 8. Given a list. Determine which number appears most often in this list. If there are several such numbers, print any of them. (don't use list methods!)\n",
        "Дан список. Определите, какое число в этом списке встречается чаще всего. Если таких чисел несколько, выведите любое из них. (Нельзя использовать готовые методы списков!)\n",
        "\n"
      ]
    },
    {
      "cell_type": "code",
      "execution_count": null,
      "metadata": {
        "id": "xP8aogeNXa9J"
      },
      "outputs": [],
      "source": [
        "L = [1, 5, 1, 2, 3, 4, 5, 6, 2, 8, 3, 1, 1, 12, 13, 14, 15, 16, 17, 12, 1]\n"
      ]
    }
  ],
  "metadata": {
    "kernelspec": {
      "display_name": "Python 3",
      "language": "python",
      "name": "python3"
    },
    "language_info": {
      "codemirror_mode": {
        "name": "ipython",
        "version": 3
      },
      "file_extension": ".py",
      "mimetype": "text/x-python",
      "name": "python",
      "nbconvert_exporter": "python",
      "pygments_lexer": "ipython3",
      "version": "3.8.2"
    },
    "colab": {
      "provenance": [],
      "include_colab_link": true
    }
  },
  "nbformat": 4,
  "nbformat_minor": 0
}